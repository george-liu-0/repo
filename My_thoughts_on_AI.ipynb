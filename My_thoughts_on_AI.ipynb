{
  "nbformat": 4,
  "nbformat_minor": 0,
  "metadata": {
    "colab": {
      "provenance": [],
      "authorship_tag": "ABX9TyOC2qb06tPSEnu++/iwodZa",
      "include_colab_link": true
    },
    "kernelspec": {
      "name": "python3",
      "display_name": "Python 3"
    },
    "language_info": {
      "name": "python"
    }
  },
  "cells": [
    {
      "cell_type": "markdown",
      "metadata": {
        "id": "view-in-github",
        "colab_type": "text"
      },
      "source": [
        "<a href=\"https://colab.research.google.com/github/george-liu-0/repo/blob/main/My_thoughts_on_AI.ipynb\" target=\"_parent\"><img src=\"https://colab.research.google.com/assets/colab-badge.svg\" alt=\"Open In Colab\"/></a>"
      ]
    },
    {
      "cell_type": "code",
      "execution_count": null,
      "metadata": {
        "id": "pxgfJoTH4sFz"
      },
      "outputs": [],
      "source": []
    },
    {
      "cell_type": "markdown",
      "source": [
        "          ## Things I want to do with AI\n",
        "\n",
        "          * **Have fun**\n",
        "          * Take over the world:"
      ],
      "metadata": {
        "id": "YoHXbAcu41D0"
      }
    },
    {
      "cell_type": "code",
      "source": [
        "## Add initial goals."
      ],
      "metadata": {
        "id": "pVCS21Lo9-NZ"
      },
      "execution_count": null,
      "outputs": []
    }
  ]
}